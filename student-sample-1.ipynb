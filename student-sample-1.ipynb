{
 "cells": [
  {
   "cell_type": "code",
   "execution_count": null,
   "metadata": {},
   "outputs": [],
   "source": [
    "#!/usr/bin/env python\n",
    "\n",
    "import pandas as pd\n",
    "import numpy as np\n",
    "from sklearn.linear_model import LinearRegression\n",
    "from sklearn.cross_validation import cross_val_score\n",
    "\n",
    "# Load data\n",
    "d = pd.read_csv('../data/train.csv')\n",
    "\n",
    "\n",
    "# Setup data for prediction\n",
    "x1 = data.SalaryNormalized\n",
    "x2 = pd.get_dummies(data.ContractType)\n",
    "\n",
    "# Setup model\n",
    "model = LinearRegression()\n",
    "\n",
    "# Evaluate model\n",
    "from sklearn.cross_validation import cross_val_score\n",
    "from sklearn.cross_validation import train_test_split\n",
    "scores = cross_val_score(model, x2, x1, cv=1, scoring='mean_absolute_error')\n",
    "print(scores.mean())"
   ]
  },
  {
   "cell_type": "markdown",
   "metadata": {},
   "source": [
    "### Code\n",
    "1. Improper import on Line 5. Instead, use:\n",
    "```python\n",
    "from sklearn.linear_model import LinearRegression\n",
    "```\n",
    "2. Use more verbose names for your variables for clarity on Line 9.\n",
    "3. Unresolved reference to variable ```data``` on Line 13 and 14.\n",
    "4. Poor variable naming convention for features and targets on Line 13 and 14.\n",
    "5. Unused import on Line 21\n",
    "6. k-fold cross validation requires at least one train/test split. ```n_folds=1``` is incorrect on Line 22.\n",
    "\n",
    "### Methodology\n",
    "* Describing the linear regression problem prior to coding and evaluating the training set could help better explain your approach.\n",
    "* Data setup with x1 and x2 is bit confusing.\n",
    "\n",
    "### Conceptual Understanding\n",
    "* Line 22 shows an incorrect setup of cross validation. Setting ```n_folds=1``` suggests a poor understanding of the concept. Please spend additional time reviewing how to evaluate estimator performance.\n",
    "* Quantifying the quality of predictions for this problem is unclear. Spending time builing a more robust and distinctive feature vector X from the dataset could help improve your results."
   ]
  },
  {
   "cell_type": "code",
   "execution_count": null,
   "metadata": {},
   "outputs": [],
   "source": []
  }
 ],
 "metadata": {
  "kernelspec": {
   "display_name": "Python 2",
   "language": "python",
   "name": "python2"
  },
  "language_info": {
   "codemirror_mode": {
    "name": "ipython",
    "version": 2
   },
   "file_extension": ".py",
   "mimetype": "text/x-python",
   "name": "python",
   "nbconvert_exporter": "python",
   "pygments_lexer": "ipython2",
   "version": "2.7.10"
  }
 },
 "nbformat": 4,
 "nbformat_minor": 2
}
